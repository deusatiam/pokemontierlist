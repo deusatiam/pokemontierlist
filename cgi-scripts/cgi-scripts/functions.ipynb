{
 "metadata": {
  "language_info": {
   "codemirror_mode": {
    "name": "ipython",
    "version": 3
   },
   "file_extension": ".py",
   "mimetype": "text/x-python",
   "name": "python",
   "nbconvert_exporter": "python",
   "pygments_lexer": "ipython3",
   "version": "3.8.6-final"
  },
  "orig_nbformat": 2,
  "kernelspec": {
   "name": "python38664bitbe609137ca5a4c0a8a604388f4f55b17",
   "display_name": "Python 3.8.6 64-bit",
   "language": "python"
  }
 },
 "nbformat": 4,
 "nbformat_minor": 2,
 "cells": [
  {
   "cell_type": "code",
   "execution_count": 45,
   "metadata": {},
   "outputs": [],
   "source": [
    "import numpy as np \n",
    "import pandas as pd \n",
    "from random import randrange"
   ]
  },
  {
   "cell_type": "code",
   "execution_count": 35,
   "metadata": {},
   "outputs": [],
   "source": [
    "df = df.drop(df.columns[0],axis=1)"
   ]
  },
  {
   "cell_type": "code",
   "execution_count": 37,
   "metadata": {},
   "outputs": [],
   "source": [
    "df.head()\n",
    "df.to_csv(\"resources/starter9.csv\", index=False)"
   ]
  },
  {
   "cell_type": "code",
   "execution_count": 60,
   "metadata": {},
   "outputs": [],
   "source": [
    "# This function sorts a given csv-file by either votes or score\n",
    "def sort_csv(csv = \"resources/starter9.csv\", type = \"Votes\"):\n",
    "    df = pd.read_csv(csv)       # Read the specified csv file\n",
    "    if type == \"Votes\":         # If sorting by votes, sort in ascending order\n",
    "        df = df.sort_values(type,axis=0,ascending=True,kind='quicksort')\n",
    "    elif type == \"Score\":       # If sorting by score, sort in descending order\n",
    "        df = df.sort_values(type,axis=0,ascending=False,kind='quicksort')\n",
    "    else:                       # Error message\n",
    "        print(\"Type in sortCsv incorrect.\")\n",
    "    df.to_csv(csv,index=False)  # Rewrite the csv file, now sorted\n",
    "    return"
   ]
  },
  {
   "cell_type": "code",
   "execution_count": 87,
   "metadata": {},
   "outputs": [],
   "source": [
    "# This function generates a pair of pokemon id's, prioritizing pokemon with low votes\n",
    "def get_pair(csv = \"resources/starter9.csv\"):\n",
    "    df = pd.read_csv(csv)\n",
    "    sort_csv(csv, \"Votes\")          # Prioritize pokemon with less votes by sorting\n",
    "    limit = int(df.shape[0]*0.2)    # Find the highest index to choose from for voting\n",
    "    if (limit < 5): limit = 5       # Minimum value for the limit for safety purposes\n",
    "    a = randrange(limit)            # Generate two different random integers within range of limit\n",
    "    b = a\n",
    "    while(b == a):\n",
    "        b = randrange(limit)   \n",
    "    \n",
    "    pokemon_a = df.iloc[a]['Id']    # Determine the Id numbers for the two pokemon\n",
    "    pokemon_b = df.iloc[b]['Id']\n",
    "\n",
    "    return pokemon_a, pokemon_b\n",
    "    "
   ]
  },
  {
   "cell_type": "code",
   "execution_count": 107,
   "metadata": {},
   "outputs": [],
   "source": [
    "# This function votes for pokemon a, adding a vote to both pokemon and adding and subtracting from their scores respectively\n",
    "def vote(a, b, csv = \"resources/starter9.csv\"):\n",
    "    df = pd.read_csv(csv)\n",
    "\n",
    "    # Find the indices of the rows corresponding to the given pokemon id\n",
    "    a_index = df[df['Id'] == a].iloc[0].name    \n",
    "    b_index = df[df['Id'] == b].iloc[0].name\n",
    "\n",
    "    # Update the votes\n",
    "    df.loc[a_index, 'Votes'] += 1\n",
    "    df.loc[b_index, 'Votes'] += 1\n",
    "\n",
    "    # Update the scores\n",
    "    df.loc[a_index, 'Score'] += 1\n",
    "    df.loc[b_index, 'Score'] -= 1\n",
    "\n",
    "    df.to_csv(csv,index=False)\n",
    "    return"
   ]
  },
  {
   "cell_type": "code",
   "execution_count": 109,
   "metadata": {},
   "outputs": [],
   "source": [
    "# This function resets the scores and votes of each pokemon\n",
    "def reset(csv = \"resources/starter9.csv\"):\n",
    "    df = pd.read_csv(csv)\n",
    "    df['Votes'] = 0\n",
    "    df['Score'] = 0"
   ]
  },
  {
   "cell_type": "code",
   "execution_count": 110,
   "metadata": {},
   "outputs": [],
   "source": [
    "# This function returns the icon filepath from a pokemon id\n",
    "def get_icon(id, csv = \"resources/starter9.csv\"):\n",
    "    df = pd.read_csv(csv)\n",
    "    return df[df['Id'] == id].iloc[0]['Icon']"
   ]
  },
  {
   "cell_type": "code",
   "execution_count": 111,
   "metadata": {},
   "outputs": [],
   "source": [
    "# This function returns the sugimori filepath from a pokemon id\n",
    "def get_sugimori(id, csv = \"resources/starter9.csv\"):\n",
    "    df = pd.read_csv(csv)\n",
    "    return df[df['Id'] == id].iloc[0]['Sugimori']"
   ]
  },
  {
   "cell_type": "code",
   "execution_count": null,
   "metadata": {},
   "outputs": [],
   "source": [
    "# This function gets the name of a pokemon by it's id\n",
    "def get_name(id, csv = \"resources/starter9.csv\"):\n",
    "    df = pd.read_csv(csv)\n",
    "    return df[df['Id'] == id].iloc[0]['Name']"
   ]
  }
 ]
}