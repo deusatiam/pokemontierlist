{
 "metadata": {
  "language_info": {
   "codemirror_mode": {
    "name": "ipython",
    "version": 3
   },
   "file_extension": ".py",
   "mimetype": "text/x-python",
   "name": "python",
   "nbconvert_exporter": "python",
   "pygments_lexer": "ipython3",
   "version": "3.8.6-final"
  },
  "orig_nbformat": 2,
  "kernelspec": {
   "name": "python38664bitbe609137ca5a4c0a8a604388f4f55b17",
   "display_name": "Python 3.8.6 64-bit",
   "language": "python"
  }
 },
 "nbformat": 4,
 "nbformat_minor": 2,
 "cells": [
  {
   "cell_type": "code",
   "execution_count": 1,
   "metadata": {},
   "outputs": [],
   "source": [
    "import numpy as np \n",
    "import pandas as pd "
   ]
  },
  {
   "cell_type": "code",
   "execution_count": 3,
   "metadata": {},
   "outputs": [],
   "source": [
    "df = pd.read_csv(\"starter9.csv\")"
   ]
  },
  {
   "cell_type": "code",
   "execution_count": 4,
   "metadata": {},
   "outputs": [
    {
     "output_type": "execute_result",
     "data": {
      "text/plain": [
       "   Id   Dex        Name  Score  Votes                           Sugimori  \\\n",
       "0   4  #005  Charmeleon      0      0  resources/Starter9/sugimori/5.png   \n",
       "1   6  #007    Squirtle      0      0  resources/Starter9/sugimori/7.png   \n",
       "2   8  #009   Blastoise      0      0  resources/Starter9/sugimori/9.png   \n",
       "3   0  #001   Bulbasaur      0      1  resources/Starter9/sugimori/1.png   \n",
       "4   2  #003    Venusaur     -1      1  resources/Starter9/sugimori/3.png   \n",
       "\n",
       "                            Icon  \n",
       "0  resources/Starter9/icon/5.png  \n",
       "1  resources/Starter9/icon/7.png  \n",
       "2  resources/Starter9/icon/9.png  \n",
       "3  resources/Starter9/icon/1.png  \n",
       "4  resources/Starter9/icon/3.png  "
      ],
      "text/html": "<div>\n<style scoped>\n    .dataframe tbody tr th:only-of-type {\n        vertical-align: middle;\n    }\n\n    .dataframe tbody tr th {\n        vertical-align: top;\n    }\n\n    .dataframe thead th {\n        text-align: right;\n    }\n</style>\n<table border=\"1\" class=\"dataframe\">\n  <thead>\n    <tr style=\"text-align: right;\">\n      <th></th>\n      <th>Id</th>\n      <th>Dex</th>\n      <th>Name</th>\n      <th>Score</th>\n      <th>Votes</th>\n      <th>Sugimori</th>\n      <th>Icon</th>\n    </tr>\n  </thead>\n  <tbody>\n    <tr>\n      <th>0</th>\n      <td>4</td>\n      <td>#005</td>\n      <td>Charmeleon</td>\n      <td>0</td>\n      <td>0</td>\n      <td>resources/Starter9/sugimori/5.png</td>\n      <td>resources/Starter9/icon/5.png</td>\n    </tr>\n    <tr>\n      <th>1</th>\n      <td>6</td>\n      <td>#007</td>\n      <td>Squirtle</td>\n      <td>0</td>\n      <td>0</td>\n      <td>resources/Starter9/sugimori/7.png</td>\n      <td>resources/Starter9/icon/7.png</td>\n    </tr>\n    <tr>\n      <th>2</th>\n      <td>8</td>\n      <td>#009</td>\n      <td>Blastoise</td>\n      <td>0</td>\n      <td>0</td>\n      <td>resources/Starter9/sugimori/9.png</td>\n      <td>resources/Starter9/icon/9.png</td>\n    </tr>\n    <tr>\n      <th>3</th>\n      <td>0</td>\n      <td>#001</td>\n      <td>Bulbasaur</td>\n      <td>0</td>\n      <td>1</td>\n      <td>resources/Starter9/sugimori/1.png</td>\n      <td>resources/Starter9/icon/1.png</td>\n    </tr>\n    <tr>\n      <th>4</th>\n      <td>2</td>\n      <td>#003</td>\n      <td>Venusaur</td>\n      <td>-1</td>\n      <td>1</td>\n      <td>resources/Starter9/sugimori/3.png</td>\n      <td>resources/Starter9/icon/3.png</td>\n    </tr>\n  </tbody>\n</table>\n</div>"
     },
     "metadata": {},
     "execution_count": 4
    }
   ],
   "source": [
    "df.head()"
   ]
  },
  {
   "cell_type": "code",
   "execution_count": 57,
   "metadata": {},
   "outputs": [
    {
     "output_type": "execute_result",
     "data": {
      "text/plain": [
       "         Name  Score  Votes                           Sugimori  \\\n",
       "4   Bulbasaur      0      1  resources/Starter9/sugimori/1.png   \n",
       "5     Ivysaur      0      3  resources/Starter9/sugimori/2.png   \n",
       "0    Venusaur      0      0  resources/Starter9/sugimori/3.png   \n",
       "8  Charmander      0      4  resources/Starter9/sugimori/4.png   \n",
       "1  Charmeleon      0      0  resources/Starter9/sugimori/5.png   \n",
       "\n",
       "                            Icon  \n",
       "4  resources/Starter9/icon/1.png  \n",
       "5  resources/Starter9/icon/2.png  \n",
       "0  resources/Starter9/icon/3.png  \n",
       "8  resources/Starter9/icon/4.png  \n",
       "1  resources/Starter9/icon/5.png  "
      ],
      "text/html": "<div>\n<style scoped>\n    .dataframe tbody tr th:only-of-type {\n        vertical-align: middle;\n    }\n\n    .dataframe tbody tr th {\n        vertical-align: top;\n    }\n\n    .dataframe thead th {\n        text-align: right;\n    }\n</style>\n<table border=\"1\" class=\"dataframe\">\n  <thead>\n    <tr style=\"text-align: right;\">\n      <th></th>\n      <th>Name</th>\n      <th>Score</th>\n      <th>Votes</th>\n      <th>Sugimori</th>\n      <th>Icon</th>\n    </tr>\n  </thead>\n  <tbody>\n    <tr>\n      <th>4</th>\n      <td>Bulbasaur</td>\n      <td>0</td>\n      <td>1</td>\n      <td>resources/Starter9/sugimori/1.png</td>\n      <td>resources/Starter9/icon/1.png</td>\n    </tr>\n    <tr>\n      <th>5</th>\n      <td>Ivysaur</td>\n      <td>0</td>\n      <td>3</td>\n      <td>resources/Starter9/sugimori/2.png</td>\n      <td>resources/Starter9/icon/2.png</td>\n    </tr>\n    <tr>\n      <th>0</th>\n      <td>Venusaur</td>\n      <td>0</td>\n      <td>0</td>\n      <td>resources/Starter9/sugimori/3.png</td>\n      <td>resources/Starter9/icon/3.png</td>\n    </tr>\n    <tr>\n      <th>8</th>\n      <td>Charmander</td>\n      <td>0</td>\n      <td>4</td>\n      <td>resources/Starter9/sugimori/4.png</td>\n      <td>resources/Starter9/icon/4.png</td>\n    </tr>\n    <tr>\n      <th>1</th>\n      <td>Charmeleon</td>\n      <td>0</td>\n      <td>0</td>\n      <td>resources/Starter9/sugimori/5.png</td>\n      <td>resources/Starter9/icon/5.png</td>\n    </tr>\n  </tbody>\n</table>\n</div>"
     },
     "metadata": {},
     "execution_count": 57
    }
   ],
   "source": [
    "### BE CAREFUL WITH THIS\n",
    "df = df.drop(df.columns[0],axis=1)\n",
    "df.head()"
   ]
  },
  {
   "cell_type": "code",
   "execution_count": 105,
   "metadata": {},
   "outputs": [],
   "source": [
    "df.to_csv(\"resources/all.csv\",index=False)"
   ]
  },
  {
   "cell_type": "code",
   "execution_count": 89,
   "metadata": {},
   "outputs": [
    {
     "output_type": "execute_result",
     "data": {
      "text/plain": [
       "   Id   Dex        Name  Score  Votes                           Sugimori  \\\n",
       "0   4  #001   Bulbasaur      0      1  resources/Starter9/sugimori/1.png   \n",
       "1   5  #002     Ivysaur      0      3  resources/Starter9/sugimori/2.png   \n",
       "2   0  #003    Venusaur      0      0  resources/Starter9/sugimori/3.png   \n",
       "3   8  #004  Charmander      0      4  resources/Starter9/sugimori/4.png   \n",
       "4   1  #005  Charmeleon      0      0  resources/Starter9/sugimori/5.png   \n",
       "\n",
       "                            Icon  \n",
       "0  resources/Starter9/icon/1.png  \n",
       "1  resources/Starter9/icon/2.png  \n",
       "2  resources/Starter9/icon/3.png  \n",
       "3  resources/Starter9/icon/4.png  \n",
       "4  resources/Starter9/icon/5.png  "
      ],
      "text/html": "<div>\n<style scoped>\n    .dataframe tbody tr th:only-of-type {\n        vertical-align: middle;\n    }\n\n    .dataframe tbody tr th {\n        vertical-align: top;\n    }\n\n    .dataframe thead th {\n        text-align: right;\n    }\n</style>\n<table border=\"1\" class=\"dataframe\">\n  <thead>\n    <tr style=\"text-align: right;\">\n      <th></th>\n      <th>Id</th>\n      <th>Dex</th>\n      <th>Name</th>\n      <th>Score</th>\n      <th>Votes</th>\n      <th>Sugimori</th>\n      <th>Icon</th>\n    </tr>\n  </thead>\n  <tbody>\n    <tr>\n      <th>0</th>\n      <td>4</td>\n      <td>#001</td>\n      <td>Bulbasaur</td>\n      <td>0</td>\n      <td>1</td>\n      <td>resources/Starter9/sugimori/1.png</td>\n      <td>resources/Starter9/icon/1.png</td>\n    </tr>\n    <tr>\n      <th>1</th>\n      <td>5</td>\n      <td>#002</td>\n      <td>Ivysaur</td>\n      <td>0</td>\n      <td>3</td>\n      <td>resources/Starter9/sugimori/2.png</td>\n      <td>resources/Starter9/icon/2.png</td>\n    </tr>\n    <tr>\n      <th>2</th>\n      <td>0</td>\n      <td>#003</td>\n      <td>Venusaur</td>\n      <td>0</td>\n      <td>0</td>\n      <td>resources/Starter9/sugimori/3.png</td>\n      <td>resources/Starter9/icon/3.png</td>\n    </tr>\n    <tr>\n      <th>3</th>\n      <td>8</td>\n      <td>#004</td>\n      <td>Charmander</td>\n      <td>0</td>\n      <td>4</td>\n      <td>resources/Starter9/sugimori/4.png</td>\n      <td>resources/Starter9/icon/4.png</td>\n    </tr>\n    <tr>\n      <th>4</th>\n      <td>1</td>\n      <td>#005</td>\n      <td>Charmeleon</td>\n      <td>0</td>\n      <td>0</td>\n      <td>resources/Starter9/sugimori/5.png</td>\n      <td>resources/Starter9/icon/5.png</td>\n    </tr>\n  </tbody>\n</table>\n</div>"
     },
     "metadata": {},
     "execution_count": 89
    }
   ],
   "source": [
    "df.head()"
   ]
  },
  {
   "cell_type": "code",
   "execution_count": 136,
   "metadata": {},
   "outputs": [],
   "source": [
    "df = pd.read_csv(\"resources/starter9.csv\")"
   ]
  },
  {
   "cell_type": "code",
   "execution_count": 137,
   "metadata": {},
   "outputs": [
    {
     "output_type": "execute_result",
     "data": {
      "text/plain": [
       "   Id   Dex        Name  Score  Votes                           Sugimori  \\\n",
       "0   2  #003    Venusaur      0      0  resources/Starter9/sugimori/3.png   \n",
       "1   4  #005  Charmeleon      0      0  resources/Starter9/sugimori/5.png   \n",
       "2   6  #007    Squirtle      0      0  resources/Starter9/sugimori/7.png   \n",
       "3   8  #009   Blastoise      0      0  resources/Starter9/sugimori/9.png   \n",
       "4   0  #001   Bulbasaur      0      1  resources/Starter9/sugimori/1.png   \n",
       "\n",
       "                            Icon  \n",
       "0  resources/Starter9/icon/3.png  \n",
       "1  resources/Starter9/icon/5.png  \n",
       "2  resources/Starter9/icon/7.png  \n",
       "3  resources/Starter9/icon/9.png  \n",
       "4  resources/Starter9/icon/1.png  "
      ],
      "text/html": "<div>\n<style scoped>\n    .dataframe tbody tr th:only-of-type {\n        vertical-align: middle;\n    }\n\n    .dataframe tbody tr th {\n        vertical-align: top;\n    }\n\n    .dataframe thead th {\n        text-align: right;\n    }\n</style>\n<table border=\"1\" class=\"dataframe\">\n  <thead>\n    <tr style=\"text-align: right;\">\n      <th></th>\n      <th>Id</th>\n      <th>Dex</th>\n      <th>Name</th>\n      <th>Score</th>\n      <th>Votes</th>\n      <th>Sugimori</th>\n      <th>Icon</th>\n    </tr>\n  </thead>\n  <tbody>\n    <tr>\n      <th>0</th>\n      <td>2</td>\n      <td>#003</td>\n      <td>Venusaur</td>\n      <td>0</td>\n      <td>0</td>\n      <td>resources/Starter9/sugimori/3.png</td>\n      <td>resources/Starter9/icon/3.png</td>\n    </tr>\n    <tr>\n      <th>1</th>\n      <td>4</td>\n      <td>#005</td>\n      <td>Charmeleon</td>\n      <td>0</td>\n      <td>0</td>\n      <td>resources/Starter9/sugimori/5.png</td>\n      <td>resources/Starter9/icon/5.png</td>\n    </tr>\n    <tr>\n      <th>2</th>\n      <td>6</td>\n      <td>#007</td>\n      <td>Squirtle</td>\n      <td>0</td>\n      <td>0</td>\n      <td>resources/Starter9/sugimori/7.png</td>\n      <td>resources/Starter9/icon/7.png</td>\n    </tr>\n    <tr>\n      <th>3</th>\n      <td>8</td>\n      <td>#009</td>\n      <td>Blastoise</td>\n      <td>0</td>\n      <td>0</td>\n      <td>resources/Starter9/sugimori/9.png</td>\n      <td>resources/Starter9/icon/9.png</td>\n    </tr>\n    <tr>\n      <th>4</th>\n      <td>0</td>\n      <td>#001</td>\n      <td>Bulbasaur</td>\n      <td>0</td>\n      <td>1</td>\n      <td>resources/Starter9/sugimori/1.png</td>\n      <td>resources/Starter9/icon/1.png</td>\n    </tr>\n  </tbody>\n</table>\n</div>"
     },
     "metadata": {},
     "execution_count": 137
    }
   ],
   "source": [
    "df.head()"
   ]
  },
  {
   "cell_type": "code",
   "execution_count": 112,
   "metadata": {},
   "outputs": [],
   "source": [
    "df = df.sort_values('Votes',axis=0,ascending=True,kind='quicksort')"
   ]
  },
  {
   "cell_type": "code",
   "execution_count": 5,
   "metadata": {},
   "outputs": [],
   "source": [
    "for row in df.iterrows():\n",
    "    s1 = 'resources/sugimori/Starter9/'\n",
    "    s2 = '.png'\n",
    "    id = row[1][0]\n",
    "    df.loc[df['Id'] == id, 'Sugimori'] = s1 + str(id+1) + s2\n"
   ]
  },
  {
   "cell_type": "code",
   "execution_count": 6,
   "metadata": {},
   "outputs": [],
   "source": [
    "for row in df.iterrows():\n",
    "    s1 = 'resources/icon/Starter9/'\n",
    "    s2 = '.png'\n",
    "    id = row[1][0]\n",
    "    df.loc[df['Id'] == id, 'Icon'] = s1 + str(id+1) + s2"
   ]
  },
  {
   "cell_type": "code",
   "execution_count": 96,
   "metadata": {},
   "outputs": [],
   "source": [
    "for row in df.iterrows():\n",
    "    i = row[0]\n",
    "    df.iloc[i, 0] = i"
   ]
  },
  {
   "cell_type": "code",
   "execution_count": 7,
   "metadata": {},
   "outputs": [],
   "source": [
    "df.to_csv(\"starter9.csv\", index=False)"
   ]
  },
  {
   "cell_type": "code",
   "execution_count": 158,
   "metadata": {},
   "outputs": [
    {
     "output_type": "execute_result",
     "data": {
      "text/plain": [
       "'Charmander'"
      ]
     },
     "metadata": {},
     "execution_count": 158
    }
   ],
   "source": [
    "df[df['Id'] == 3].iloc[0][2]"
   ]
  },
  {
   "cell_type": "code",
   "execution_count": 151,
   "metadata": {},
   "outputs": [
    {
     "output_type": "execute_result",
     "data": {
      "text/plain": [
       "   Id   Dex        Name  Score  Votes                           Sugimori  \\\n",
       "0   2  #003    Venusaur      0     14  resources/Starter9/sugimori/3.png   \n",
       "1   4  #005  Charmeleon      0      0  resources/Starter9/sugimori/5.png   \n",
       "2   6  #007    Squirtle      0      0  resources/Starter9/sugimori/7.png   \n",
       "3   8  #009   Blastoise      0      0  resources/Starter9/sugimori/9.png   \n",
       "4   0  #001   Bulbasaur      0      1  resources/Starter9/sugimori/1.png   \n",
       "\n",
       "                            Icon  \n",
       "0  resources/Starter9/icon/3.png  \n",
       "1  resources/Starter9/icon/5.png  \n",
       "2  resources/Starter9/icon/7.png  \n",
       "3  resources/Starter9/icon/9.png  \n",
       "4  resources/Starter9/icon/1.png  "
      ],
      "text/html": "<div>\n<style scoped>\n    .dataframe tbody tr th:only-of-type {\n        vertical-align: middle;\n    }\n\n    .dataframe tbody tr th {\n        vertical-align: top;\n    }\n\n    .dataframe thead th {\n        text-align: right;\n    }\n</style>\n<table border=\"1\" class=\"dataframe\">\n  <thead>\n    <tr style=\"text-align: right;\">\n      <th></th>\n      <th>Id</th>\n      <th>Dex</th>\n      <th>Name</th>\n      <th>Score</th>\n      <th>Votes</th>\n      <th>Sugimori</th>\n      <th>Icon</th>\n    </tr>\n  </thead>\n  <tbody>\n    <tr>\n      <th>0</th>\n      <td>2</td>\n      <td>#003</td>\n      <td>Venusaur</td>\n      <td>0</td>\n      <td>14</td>\n      <td>resources/Starter9/sugimori/3.png</td>\n      <td>resources/Starter9/icon/3.png</td>\n    </tr>\n    <tr>\n      <th>1</th>\n      <td>4</td>\n      <td>#005</td>\n      <td>Charmeleon</td>\n      <td>0</td>\n      <td>0</td>\n      <td>resources/Starter9/sugimori/5.png</td>\n      <td>resources/Starter9/icon/5.png</td>\n    </tr>\n    <tr>\n      <th>2</th>\n      <td>6</td>\n      <td>#007</td>\n      <td>Squirtle</td>\n      <td>0</td>\n      <td>0</td>\n      <td>resources/Starter9/sugimori/7.png</td>\n      <td>resources/Starter9/icon/7.png</td>\n    </tr>\n    <tr>\n      <th>3</th>\n      <td>8</td>\n      <td>#009</td>\n      <td>Blastoise</td>\n      <td>0</td>\n      <td>0</td>\n      <td>resources/Starter9/sugimori/9.png</td>\n      <td>resources/Starter9/icon/9.png</td>\n    </tr>\n    <tr>\n      <th>4</th>\n      <td>0</td>\n      <td>#001</td>\n      <td>Bulbasaur</td>\n      <td>0</td>\n      <td>1</td>\n      <td>resources/Starter9/sugimori/1.png</td>\n      <td>resources/Starter9/icon/1.png</td>\n    </tr>\n  </tbody>\n</table>\n</div>"
     },
     "metadata": {},
     "execution_count": 151
    }
   ],
   "source": [
    "df.loc[0, 'Votes'] += 1\n",
    "df.head()"
   ]
  },
  {
   "cell_type": "code",
   "execution_count": 152,
   "metadata": {},
   "outputs": [
    {
     "output_type": "execute_result",
     "data": {
      "text/plain": [
       "   Id   Dex        Name  Score  Votes                           Sugimori  \\\n",
       "0   2  #003    Venusaur      0      0  resources/Starter9/sugimori/3.png   \n",
       "1   4  #005  Charmeleon      0      0  resources/Starter9/sugimori/5.png   \n",
       "2   6  #007    Squirtle      0      0  resources/Starter9/sugimori/7.png   \n",
       "3   8  #009   Blastoise      0      0  resources/Starter9/sugimori/9.png   \n",
       "4   0  #001   Bulbasaur      0      0  resources/Starter9/sugimori/1.png   \n",
       "\n",
       "                            Icon  \n",
       "0  resources/Starter9/icon/3.png  \n",
       "1  resources/Starter9/icon/5.png  \n",
       "2  resources/Starter9/icon/7.png  \n",
       "3  resources/Starter9/icon/9.png  \n",
       "4  resources/Starter9/icon/1.png  "
      ],
      "text/html": "<div>\n<style scoped>\n    .dataframe tbody tr th:only-of-type {\n        vertical-align: middle;\n    }\n\n    .dataframe tbody tr th {\n        vertical-align: top;\n    }\n\n    .dataframe thead th {\n        text-align: right;\n    }\n</style>\n<table border=\"1\" class=\"dataframe\">\n  <thead>\n    <tr style=\"text-align: right;\">\n      <th></th>\n      <th>Id</th>\n      <th>Dex</th>\n      <th>Name</th>\n      <th>Score</th>\n      <th>Votes</th>\n      <th>Sugimori</th>\n      <th>Icon</th>\n    </tr>\n  </thead>\n  <tbody>\n    <tr>\n      <th>0</th>\n      <td>2</td>\n      <td>#003</td>\n      <td>Venusaur</td>\n      <td>0</td>\n      <td>0</td>\n      <td>resources/Starter9/sugimori/3.png</td>\n      <td>resources/Starter9/icon/3.png</td>\n    </tr>\n    <tr>\n      <th>1</th>\n      <td>4</td>\n      <td>#005</td>\n      <td>Charmeleon</td>\n      <td>0</td>\n      <td>0</td>\n      <td>resources/Starter9/sugimori/5.png</td>\n      <td>resources/Starter9/icon/5.png</td>\n    </tr>\n    <tr>\n      <th>2</th>\n      <td>6</td>\n      <td>#007</td>\n      <td>Squirtle</td>\n      <td>0</td>\n      <td>0</td>\n      <td>resources/Starter9/sugimori/7.png</td>\n      <td>resources/Starter9/icon/7.png</td>\n    </tr>\n    <tr>\n      <th>3</th>\n      <td>8</td>\n      <td>#009</td>\n      <td>Blastoise</td>\n      <td>0</td>\n      <td>0</td>\n      <td>resources/Starter9/sugimori/9.png</td>\n      <td>resources/Starter9/icon/9.png</td>\n    </tr>\n    <tr>\n      <th>4</th>\n      <td>0</td>\n      <td>#001</td>\n      <td>Bulbasaur</td>\n      <td>0</td>\n      <td>0</td>\n      <td>resources/Starter9/sugimori/1.png</td>\n      <td>resources/Starter9/icon/1.png</td>\n    </tr>\n  </tbody>\n</table>\n</div>"
     },
     "metadata": {},
     "execution_count": 152
    }
   ],
   "source": [
    "df['Votes']=0\n",
    "df.head()"
   ]
  },
  {
   "cell_type": "code",
   "execution_count": 165,
   "metadata": {},
   "outputs": [
    {
     "output_type": "execute_result",
     "data": {
      "text/plain": [
       "'Squirtle'"
      ]
     },
     "metadata": {},
     "execution_count": 165
    }
   ],
   "source": [
    "df.loc[2, 'Name']"
   ]
  },
  {
   "cell_type": "code",
   "execution_count": null,
   "metadata": {},
   "outputs": [],
   "source": []
  }
 ]
}